{
 "cells": [
  {
   "cell_type": "code",
   "execution_count": 19,
   "id": "c0a3015b",
   "metadata": {},
   "outputs": [],
   "source": [
    "import torch\n",
    "import torch.nn as nn\n",
    "import numpy as np\n",
    "import pandas as pd\n",
    "from sklearn.preprocessing import MinMaxScaler\n",
    "from sklearn.utils import resample # We need this for bootstrapping\n",
    "from torch.utils.data import TensorDataset, DataLoader \n",
    "import sys\n",
    "import os\n",
    "import pickle\n",
    "sys.path.append('../')"
   ]
  },
  {
   "cell_type": "code",
   "execution_count": 20,
   "id": "148f62c4",
   "metadata": {},
   "outputs": [],
   "source": [
    "from simulation.data_loader import get_weather_data"
   ]
  },
  {
   "cell_type": "code",
   "execution_count": 21,
   "id": "1f8fad09",
   "metadata": {},
   "outputs": [],
   "source": [
    "# --- Configuration ---\n",
    "NUM_MODELS_IN_ENSEMBLE = 5\n",
    "EPOCHS_PER_MODEL = 200 # Training for 100 epochs is a good balance\n",
    "LOOK_BACK = 30\n",
    "LOOK_FORWARD = 7\n",
    "BATCH_SIZE = 64"
   ]
  },
  {
   "cell_type": "code",
   "execution_count": 22,
   "id": "2bda32fa",
   "metadata": {},
   "outputs": [],
   "source": [
    "models_dir = \"../models\"\n",
    "os.makedirs(models_dir, exist_ok=True)"
   ]
  },
  {
   "cell_type": "code",
   "execution_count": 23,
   "id": "a8e11a0e",
   "metadata": {},
   "outputs": [
    {
     "name": "stdout",
     "output_type": "stream",
     "text": [
      "--- Step 1: Fetching and Preparing Weather Data ---\n",
      "Fetching real weather data for Lat: 30.901, Long: 75.8573 from Open-Meteo...\n",
      "Sucessfully fetched and processed real weather data from Open-Meteo.\n",
      "Data scaler has been fit and saved to: ../models/weather_data_scaler.pkl\n"
     ]
    }
   ],
   "source": [
    "\n",
    "#### Data Preparation ---\n",
    "print(\"--- Step 1: Fetching and Preparing Weather Data ---\")\n",
    "full_weather_data = get_weather_data(\n",
    "    latitude=30.9010, longitude=75.8573,\n",
    "    start_date=\"2010-01-01\", end_date=\"2022-12-31\"\n",
    ")\n",
    "\n",
    "if full_weather_data is None:\n",
    "    raise Exception(\"Failed to fetch weather data.\")\n",
    "\n",
    "weather_values = full_weather_data[['temperature', 'rainfall']].values.astype(np.float32)\n",
    "\n",
    "# We fit the scaler once on all the data and save it.\n",
    "# All models in the ensemble will use the same scaler.\n",
    "scaler = MinMaxScaler(feature_range=(0, 1))\n",
    "scaled_weather_data = scaler.fit_transform(weather_values)\n",
    "scaler_path = os.path.join(models_dir, \"weather_data_scaler.pkl\")\n",
    "with open(scaler_path, 'wb') as f:\n",
    "    pickle.dump(scaler, f)\n",
    "print(f\"Data scaler has been fit and saved to: {scaler_path}\")"
   ]
  },
  {
   "cell_type": "code",
   "execution_count": 24,
   "id": "ef0a3528",
   "metadata": {},
   "outputs": [],
   "source": [
    "#### Create the Full Set of Sequences ---\n",
    "def create_sequences(data, look_back=30, look_forward=7):\n",
    "    X, y = [], []\n",
    "    for i in range(len(data) - look_back - look_forward + 1):\n",
    "        X.append(data[i:(i + look_back)])\n",
    "        y.append(data[(i + look_back):(i + look_back + look_forward)])\n",
    "    return np.array(X), np.array(y)\n",
    "\n",
    "X_full, y_full = create_sequences(scaled_weather_data, LOOK_BACK, LOOK_FORWARD)\n"
   ]
  },
  {
   "cell_type": "code",
   "execution_count": 25,
   "id": "2b9ecf45",
   "metadata": {},
   "outputs": [],
   "source": [
    "#### Define the LSTM Model Architecture (Same as before) ---\n",
    "class WeatherLSTM(nn.Module):\n",
    "    def __init__(self, input_size=2, hidden_layer_size=100, output_size=2, num_layers=2, look_forward=7):\n",
    "        super().__init__()\n",
    "        self.hidden_layer_size = hidden_layer_size\n",
    "        self.num_layers = num_layers\n",
    "        self.look_forward = look_forward\n",
    "        self.lstm = nn.LSTM(input_size, hidden_layer_size, num_layers, batch_first=True)\n",
    "        self.linear = nn.Linear(hidden_layer_size, output_size * look_forward)\n",
    "\n",
    "    def forward(self, input_seq):\n",
    "        h0 = torch.zeros(self.num_layers, input_seq.size(0), self.hidden_layer_size).to(input_seq.device)\n",
    "        c0 = torch.zeros(self.num_layers, input_seq.size(0), self.hidden_layer_size).to(input_seq.device)\n",
    "        lstm_out, _ = self.lstm(input_seq, (h0, c0))\n",
    "        last_timestep_out = lstm_out[:, -1, :]\n",
    "        predictions = self.linear(last_timestep_out)\n",
    "        return predictions.view(-1, self.look_forward, 2)"
   ]
  },
  {
   "cell_type": "code",
   "execution_count": null,
   "id": "7c145925",
   "metadata": {},
   "outputs": [],
   "source": [
    "#### The Ensemble Training Loop ---\n",
    "print(f\"\\n--- Step 2: Starting Ensemble Training for {NUM_MODELS_IN_ENSEMBLE} Models ---\")\n",
    "\n",
    "device = torch.device('cuda' if torch.cuda.is_available() else 'cpu')\n",
    "print(f\"Training on device: {device}\")\n",
    "\n",
    "for model_idx in range(1, NUM_MODELS_IN_ENSEMBLE + 1):\n",
    "    print(f\"\\n--- Training Model {model_idx}/{NUM_MODELS_IN_ENSEMBLE} ---\")\n",
    "    \n",
    "    # --- Bootstrapping: Create a slightly different dataset for each model ---\n",
    "    # We resample the full dataset with replacement. This means some data points\n",
    "    # will be selected multiple times, and some will be left out for this model.\n",
    "    # This variation is what makes the ensemble powerful.\n",
    "    X_sample, y_sample = resample(X_full, y_full, replace=True, n_samples=len(X_full))\n",
    "    \n",
    "    X_tensor = torch.from_numpy(X_sample)\n",
    "    y_tensor = torch.from_numpy(y_sample)\n",
    "    \n",
    "    train_dataset = TensorDataset(X_tensor, y_tensor)\n",
    "    train_loader = DataLoader(train_dataset, batch_size=BATCH_SIZE, shuffle=True)\n",
    "    \n",
    "    # --- Initialize a new model for this training run ---\n",
    "    model = WeatherLSTM(look_forward=LOOK_FORWARD).to(device)\n",
    "    loss_function = nn.MSELoss()\n",
    "    optimizer = torch.optim.Adam(model.parameters(), lr=0.001)\n",
    "    \n",
    "    # --- Train this specific model ---\n",
    "    for epoch in range(EPOCHS_PER_MODEL):\n",
    "        epoch_loss = 0.0\n",
    "        for sequences, labels in train_loader:\n",
    "            sequences = sequences.to(device)\n",
    "            labels = labels.to(device)\n",
    "            \n",
    "            optimizer.zero_grad()\n",
    "            y_pred = model(sequences)\n",
    "            loss = loss_function(y_pred, labels)\n",
    "            loss.backward()\n",
    "            optimizer.step()\n",
    "            epoch_loss += loss.item()\n",
    "        \n",
    "        avg_epoch_loss = epoch_loss / len(train_loader)\n",
    "        print(f'  Epoch {epoch+1}/{EPOCHS_PER_MODEL} Loss: {avg_epoch_loss:.6f}')\n",
    "            \n",
    "    # --- Save this specific model ---\n",
    "    model_path = os.path.join(models_dir, f\"lstm_weather_forecaster_{model_idx}.pth\")\n",
    "    model.to('cpu')\n",
    "    torch.save(model.state_dict(), model_path)\n",
    "    print(f\"Successfully trained and saved model {model_idx} to: {model_path}\")\n",
    "\n",
    "print(\"\\n--- Ensemble Training Complete! ---\")"
   ]
  },
  {
   "cell_type": "code",
   "execution_count": null,
   "id": "daa76ad9",
   "metadata": {},
   "outputs": [],
   "source": []
  },
  {
   "cell_type": "code",
   "execution_count": null,
   "id": "f8522d9d",
   "metadata": {},
   "outputs": [],
   "source": []
  }
 ],
 "metadata": {
  "kernelspec": {
   "display_name": "ai_env",
   "language": "python",
   "name": "python3"
  },
  "language_info": {
   "codemirror_mode": {
    "name": "ipython",
    "version": 3
   },
   "file_extension": ".py",
   "mimetype": "text/x-python",
   "name": "python",
   "nbconvert_exporter": "python",
   "pygments_lexer": "ipython3",
   "version": "3.10.17"
  }
 },
 "nbformat": 4,
 "nbformat_minor": 5
}
