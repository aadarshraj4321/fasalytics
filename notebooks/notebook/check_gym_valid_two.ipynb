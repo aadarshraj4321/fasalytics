{
 "cells": [
  {
   "cell_type": "code",
   "execution_count": 1,
   "id": "ac515471",
   "metadata": {},
   "outputs": [],
   "source": [
    "import sys\n",
    "sys.path.append(\"../\")"
   ]
  },
  {
   "cell_type": "code",
   "execution_count": 2,
   "id": "db77935b",
   "metadata": {},
   "outputs": [],
   "source": [
    "from simulation.farm_env import FarmEnv\n",
    "from stable_baselines3.common.env_checker import check_env"
   ]
  },
  {
   "cell_type": "code",
   "execution_count": 3,
   "id": "0b33537a",
   "metadata": {},
   "outputs": [
    {
     "name": "stdout",
     "output_type": "stream",
     "text": [
      "Soil Completed: Alluvial Starting Moisture: 50.0%\n",
      "Crop Seed Ready: Wheat\n",
      "Farm Environment Ready\n"
     ]
    },
    {
     "name": "stderr",
     "output_type": "stream",
     "text": [
      "/Users/aadarshraj/ai_env/lib/python3.10/site-packages/gymnasium/spaces/box.py:235: UserWarning: \u001b[33mWARN: Box low's precision lowered by casting to float32, current low.dtype=float64\u001b[0m\n",
      "  gym.logger.warn(\n",
      "/Users/aadarshraj/ai_env/lib/python3.10/site-packages/gymnasium/spaces/box.py:305: UserWarning: \u001b[33mWARN: Box high's precision lowered by casting to float32, current high.dtype=float64\u001b[0m\n",
      "  gym.logger.warn(\n"
     ]
    }
   ],
   "source": [
    "env = FarmEnv()"
   ]
  },
  {
   "cell_type": "code",
   "execution_count": 4,
   "id": "bc64d926",
   "metadata": {},
   "outputs": [
    {
     "name": "stdout",
     "output_type": "stream",
     "text": [
      "Soil Completed: Alluvial Starting Moisture: 50.0%\n",
      "Crop Seed Ready: Wheat\n",
      "Soil Completed: Alluvial Starting Moisture: 50.0%\n",
      "Crop Seed Ready: Wheat\n",
      "Soil Completed: Alluvial Starting Moisture: 50.0%\n",
      "Crop Seed Ready: Wheat\n",
      "\n",
      "\n",
      "Farm Environment is good and ready\n"
     ]
    }
   ],
   "source": [
    "check_env(env)\n",
    "\n",
    "print(\"\\n\\nFarm Environment is good and ready\")"
   ]
  },
  {
   "cell_type": "code",
   "execution_count": null,
   "id": "c71e4934",
   "metadata": {},
   "outputs": [],
   "source": []
  }
 ],
 "metadata": {
  "kernelspec": {
   "display_name": "ai_env",
   "language": "python",
   "name": "python3"
  },
  "language_info": {
   "codemirror_mode": {
    "name": "ipython",
    "version": 3
   },
   "file_extension": ".py",
   "mimetype": "text/x-python",
   "name": "python",
   "nbconvert_exporter": "python",
   "pygments_lexer": "ipython3",
   "version": "3.10.17"
  }
 },
 "nbformat": 4,
 "nbformat_minor": 5
}
