{
 "cells": [
  {
   "cell_type": "code",
   "execution_count": 1,
   "id": "7c13bc91",
   "metadata": {},
   "outputs": [],
   "source": [
    "import sys\n",
    "sys.path.append('../')"
   ]
  },
  {
   "cell_type": "code",
   "execution_count": 2,
   "id": "5a85a9ec",
   "metadata": {},
   "outputs": [],
   "source": [
    "from simulation.core_components import Soil, Crop"
   ]
  },
  {
   "cell_type": "code",
   "execution_count": null,
   "id": "b35a6e38",
   "metadata": {},
   "outputs": [],
   "source": []
  },
  {
   "cell_type": "code",
   "execution_count": 3,
   "id": "3f1a81a9",
   "metadata": {},
   "outputs": [
    {
     "name": "stdout",
     "output_type": "stream",
     "text": [
      "Soil Completed: Alluvial Starting Moisture: 60.0%\n"
     ]
    }
   ],
   "source": [
    "my_soil = Soil(soil_type='Alluvial', initial_moisture=0.6)"
   ]
  },
  {
   "cell_type": "code",
   "execution_count": 4,
   "id": "9a0b8b0a",
   "metadata": {},
   "outputs": [
    {
     "name": "stdout",
     "output_type": "stream",
     "text": [
      "Crop Seed Ready: Wheat\n"
     ]
    }
   ],
   "source": [
    "my_crop = Crop(crop_type=\"Wheat\")"
   ]
  },
  {
   "cell_type": "code",
   "execution_count": 5,
   "id": "a332fc39",
   "metadata": {},
   "outputs": [
    {
     "name": "stdout",
     "output_type": "stream",
     "text": [
      "\n",
      "---- 5 Days Simulation Start ----\n",
      "\n",
      "---- Day 1 ----\n",
      "Today Temperature: 22C, Rain: 0mm\n",
      "After Rain Moisture: 0.60\n",
      "After Sunglight Mositure: 0.56\n",
      "Crop Stage: Seed, Health: 100.00%\n",
      "\n",
      "---- Day 2 ----\n",
      "Today Temperature: 24C, Rain: 0mm\n",
      "After Rain Moisture: 0.56\n",
      "After Sunglight Mositure: 0.51\n",
      "Crop Stage: Seed, Health: 100.00%\n",
      "\n",
      "---- Day 3 ----\n",
      "Today Temperature: 25C, Rain: 10mm\n",
      "After Rain Moisture: 0.52\n",
      "After Sunglight Mositure: 0.47\n",
      "Crop Stage: Seed, Health: 100.00%\n",
      "\n",
      "---- Day 4 ----\n",
      "Today Temperature: 28C, Rain: 0mm\n",
      "After Rain Moisture: 0.47\n",
      "After Sunglight Mositure: 0.41\n",
      "Crop Stage: Seed, Health: 100.00%\n",
      "\n",
      "---- Day 5 ----\n",
      "Today Temperature: 20C, Rain: 5mm\n",
      "After Rain Moisture: 0.42\n",
      "After Sunglight Mositure: 0.38\n",
      "Crop Stage: Seed, Health: 100.00%\n",
      "\n",
      "---- Simulation End ----\n",
      "After 5 Days Anumanit Paidawar: 5000.00 kg/hectare\n"
     ]
    }
   ],
   "source": [
    "print(\"\\n---- 5 Days Simulation Start ----\")\n",
    "daily_temp = [22, 24, 25, 28, 20]\n",
    "daily_rainfall_mm = [0, 0, 10, 0, 5]\n",
    "\n",
    "for day in range(5):\n",
    "    print(f\"\\n---- Day {day + 1} ----\")\n",
    "    temp = daily_temp[day]\n",
    "    rain = daily_rainfall_mm[day]\n",
    "    print(f\"Today Temperature: {temp}C, Rain: {rain}mm\")\n",
    "\n",
    "    my_soil.add_water(rain)\n",
    "    print(f\"After Rain Moisture: {my_soil.moisture_content:.2f}\")\n",
    "\n",
    "\n",
    "    my_soil.daily_evaporation(temperature=temp)\n",
    "    print(f\"After Sunglight Mositure: {my_soil.moisture_content:.2f}\")\n",
    "\n",
    "    print(f\"Crop Stage: {my_crop.growth_stage}, Health: {my_crop.health:.2f}%\")\n",
    "\n",
    "\n",
    "print(\"\\n---- Simulation End ----\")\n",
    "final_yield = my_crop.get_current_yield()\n",
    "print(f\"After 5 Days Anumanit Paidawar: {final_yield:.2f} kg/hectare\")"
   ]
  }
 ],
 "metadata": {
  "kernelspec": {
   "display_name": "ai_env",
   "language": "python",
   "name": "python3"
  },
  "language_info": {
   "codemirror_mode": {
    "name": "ipython",
    "version": 3
   },
   "file_extension": ".py",
   "mimetype": "text/x-python",
   "name": "python",
   "nbconvert_exporter": "python",
   "pygments_lexer": "ipython3",
   "version": "3.10.17"
  }
 },
 "nbformat": 4,
 "nbformat_minor": 5
}
