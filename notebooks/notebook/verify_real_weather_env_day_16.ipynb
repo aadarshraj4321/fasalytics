{
 "cells": [
  {
   "cell_type": "code",
   "execution_count": 1,
   "id": "1f88ce61",
   "metadata": {},
   "outputs": [],
   "source": [
    "import sys\n",
    "sys.path.append(\"../\")"
   ]
  },
  {
   "cell_type": "code",
   "execution_count": 2,
   "id": "1221c6d0",
   "metadata": {},
   "outputs": [],
   "source": [
    "from simulation.farm_env import FarmEnv"
   ]
  },
  {
   "cell_type": "code",
   "execution_count": 3,
   "id": "059d1810",
   "metadata": {},
   "outputs": [
    {
     "name": "stdout",
     "output_type": "stream",
     "text": [
      "Attempting to create the Farm Environment with real weather data...\n",
      "Fetching real weather data for Lat: 30.901, Long: 75.8573 from Open-Meteo...\n",
      "Sucessfully fetched and processed real weather data from Open-Meteo.\n",
      "\n",
      "--- Verification successful! ---\n",
      "The Farm Environment was created successfully.\n",
      "It has fetched 3 years of real weather data and is ready for training.\n",
      "\n",
      "Total days of historical data loaded: 1096\n",
      "Sample of the first 5 days of loaded data:\n",
      "   YEAR  MO          DY  temperature  rainfall\n",
      "0  2020   1  2020-01-01          7.5       0.0\n",
      "1  2020   1  2020-01-02          9.6       0.0\n",
      "2  2020   1  2020-01-03         11.1       0.0\n",
      "3  2020   1  2020-01-04         10.9       0.0\n",
      "4  2020   1  2020-01-05         11.4       0.6\n"
     ]
    },
    {
     "name": "stderr",
     "output_type": "stream",
     "text": [
      "/Users/aadarshraj/ai_env/lib/python3.10/site-packages/gymnasium/spaces/box.py:236: UserWarning: \u001b[33mWARN: Box low's precision lowered by casting to float32, current low.dtype=float64\u001b[0m\n",
      "  gym.logger.warn(\n",
      "/Users/aadarshraj/ai_env/lib/python3.10/site-packages/gymnasium/spaces/box.py:306: UserWarning: \u001b[33mWARN: Box high's precision lowered by casting to float32, current high.dtype=float64\u001b[0m\n",
      "  gym.logger.warn(\n"
     ]
    }
   ],
   "source": [
    "print(\"Attempting to create the Farm Environment with real weather data...\")\n",
    "\n",
    "# This one line is the entire test.\n",
    "# If it runs without any errors, Day 16 is a success.\n",
    "env = FarmEnv()\n",
    "\n",
    "print(\"\\n--- Verification successful! ---\")\n",
    "print(\"The Farm Environment was created successfully.\")\n",
    "print(\"It has fetched 3 years of real weather data and is ready for training.\")\n",
    "\n",
    "# You can optionally check the fetched data\n",
    "print(f\"\\nTotal days of historical data loaded: {len(env.full_weather_data)}\")\n",
    "print(\"Sample of the first 5 days of loaded data:\")\n",
    "print(env.full_weather_data.head())"
   ]
  },
  {
   "cell_type": "code",
   "execution_count": null,
   "id": "e7d691b1",
   "metadata": {},
   "outputs": [],
   "source": []
  }
 ],
 "metadata": {
  "kernelspec": {
   "display_name": "ai_env",
   "language": "python",
   "name": "python3"
  },
  "language_info": {
   "codemirror_mode": {
    "name": "ipython",
    "version": 3
   },
   "file_extension": ".py",
   "mimetype": "text/x-python",
   "name": "python",
   "nbconvert_exporter": "python",
   "pygments_lexer": "ipython3",
   "version": "3.10.17"
  }
 },
 "nbformat": 4,
 "nbformat_minor": 5
}
